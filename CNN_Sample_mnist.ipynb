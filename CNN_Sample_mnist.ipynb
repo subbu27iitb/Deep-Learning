{
  "nbformat": 4,
  "nbformat_minor": 0,
  "metadata": {
    "colab": {
      "provenance": [],
      "authorship_tag": "ABX9TyOE2VzCybuH4WKjjmdcibpd",
      "include_colab_link": true
    },
    "kernelspec": {
      "name": "python3",
      "display_name": "Python 3"
    },
    "language_info": {
      "name": "python"
    },
    "gpuClass": "standard"
  },
  "cells": [
    {
      "cell_type": "markdown",
      "metadata": {
        "id": "view-in-github",
        "colab_type": "text"
      },
      "source": [
        "<a href=\"https://colab.research.google.com/github/subbu27iitb/Deep-Learning/blob/main/CNN_Sample_mnist.ipynb\" target=\"_parent\"><img src=\"https://colab.research.google.com/assets/colab-badge.svg\" alt=\"Open In Colab\"/></a>"
      ]
    },
    {
      "cell_type": "markdown",
      "source": [
        "https://www.youtube.com/watch?v=1Ckh6Dd3S7g\n",
        "\n",
        "https://www.youtube.com/watch?v=WZdxt9xatrY"
      ],
      "metadata": {
        "id": "ZtilQoo_GN2z"
      }
    },
    {
      "cell_type": "code",
      "execution_count": null,
      "metadata": {
        "id": "BgVqXsq8GGse"
      },
      "outputs": [],
      "source": [
        "import tensorflow as tf\n",
        "from tensorflow.keras.layers import Input, Dense, Conv2D, MaxPooling2D, Flatten, Dropout\n",
        "from keras.models import Sequential, Model\n",
        "from tensorflow.keras.layers import Conv1D, Conv3D"
      ]
    },
    {
      "cell_type": "code",
      "source": [
        "model_cnn= Sequential([\n",
        "    Conv2D(64,3,input_shape=(128,128,1), use_bias=True),\n",
        "    MaxPooling2D(pool_size=4),\n",
        "    Flatten(),\n",
        "    Dropout(0.5),\n",
        "    Dense(1, activation='softmax')\n",
        "])"
      ],
      "metadata": {
        "id": "v-PKQg2wJ1gr"
      },
      "execution_count": null,
      "outputs": []
    },
    {
      "cell_type": "code",
      "source": [
        "model_cnn.summary()"
      ],
      "metadata": {
        "colab": {
          "base_uri": "https://localhost:8080/"
        },
        "id": "s4X6p5ByLgKf",
        "outputId": "039d4d83-69d6-4204-ac5f-fb61a87d1cda"
      },
      "execution_count": null,
      "outputs": [
        {
          "output_type": "stream",
          "name": "stdout",
          "text": [
            "Model: \"sequential\"\n",
            "_________________________________________________________________\n",
            " Layer (type)                Output Shape              Param #   \n",
            "=================================================================\n",
            " conv2d (Conv2D)             (None, 126, 126, 64)      640       \n",
            "                                                                 \n",
            " max_pooling2d (MaxPooling2D  (None, 31, 31, 64)       0         \n",
            " )                                                               \n",
            "                                                                 \n",
            " flatten (Flatten)           (None, 61504)             0         \n",
            "                                                                 \n",
            " dropout (Dropout)           (None, 61504)             0         \n",
            "                                                                 \n",
            " dense (Dense)               (None, 1)                 61505     \n",
            "                                                                 \n",
            "=================================================================\n",
            "Total params: 62,145\n",
            "Trainable params: 62,145\n",
            "Non-trainable params: 0\n",
            "_________________________________________________________________\n"
          ]
        }
      ]
    },
    {
      "cell_type": "code",
      "source": [
        "model_cnn.save('simple_cnn.h5')"
      ],
      "metadata": {
        "colab": {
          "base_uri": "https://localhost:8080/"
        },
        "id": "cYwWmWVtvBpn",
        "outputId": "d2fad3a0-10e5-4115-b251-3065c3a74558"
      },
      "execution_count": null,
      "outputs": [
        {
          "output_type": "stream",
          "name": "stderr",
          "text": [
            "WARNING:tensorflow:Compiled the loaded model, but the compiled metrics have yet to be built. `model.compile_metrics` will be empty until you train or evaluate the model.\n"
          ]
        }
      ]
    },
    {
      "cell_type": "code",
      "source": [
        "input_shape=(4,28,28,3)"
      ],
      "metadata": {
        "id": "SMpoCEeqLLXv"
      },
      "execution_count": null,
      "outputs": []
    },
    {
      "cell_type": "code",
      "source": [
        "X= tf.random.normal(input_shape)\n",
        "print(X.shape)\n",
        "Y1=Conv2D(2,2, activation='relu')(X)# Q-won't it take input_shape[1:] by default ?\n",
        "#Y2=Conv2D(2,2, activation='relu',input_shape=input_shape[1:])(X)\n",
        "print(Y1.shape)\n",
        "#print(Y2.shape)\n",
        "#Y1[0][1]-Y2[0][1]"
      ],
      "metadata": {
        "colab": {
          "base_uri": "https://localhost:8080/"
        },
        "id": "0J_HMR1LLY2r",
        "outputId": "db8ea4ec-8202-4088-81ce-0f0203d58577"
      },
      "execution_count": null,
      "outputs": [
        {
          "output_type": "stream",
          "name": "stdout",
          "text": [
            "(4, 28, 28, 3)\n",
            "(4, 27, 27, 2)\n",
            "(4, 27, 27, 2)\n"
          ]
        }
      ]
    },
    {
      "cell_type": "code",
      "source": [
        "Z=MaxPooling2D(pool_size=3)(Y1)\n",
        "print(Z.shape)\n",
        "Z1=MaxPooling2D(pool_size=3, strides=1)(Y1)\n",
        "print(Z1.shape)\n",
        "Z2=MaxPooling2D(pool_size=3, strides=3)(Y1)\n",
        "print(Z2.shape)\n",
        "Z3=MaxPooling2D(pool_size=3, strides=4)(Y1)\n",
        "print(Z3.shape)"
      ],
      "metadata": {
        "colab": {
          "base_uri": "https://localhost:8080/"
        },
        "id": "xFKpmwkLoXon",
        "outputId": "3dd7d991-6100-4786-8ef7-bdda42a8ecf0"
      },
      "execution_count": null,
      "outputs": [
        {
          "output_type": "stream",
          "name": "stdout",
          "text": [
            "(4, 9, 9, 2)\n",
            "(4, 25, 25, 2)\n",
            "(4, 9, 9, 2)\n",
            "(4, 7, 7, 2)\n"
          ]
        }
      ]
    },
    {
      "cell_type": "code",
      "source": [
        "ab=Flatten()(Z)\n",
        "print(ab.shape)"
      ],
      "metadata": {
        "colab": {
          "base_uri": "https://localhost:8080/"
        },
        "id": "oY6KI1lerSk5",
        "outputId": "7cc8ef7b-b9c4-4c57-a8f0-9759d31cfc38"
      },
      "execution_count": null,
      "outputs": [
        {
          "output_type": "stream",
          "name": "stdout",
          "text": [
            "(4, 162)\n"
          ]
        }
      ]
    },
    {
      "cell_type": "code",
      "source": [
        "abz=Dropout(0.2, seed=10)(ab)\n",
        "print(abz.shape)"
      ],
      "metadata": {
        "colab": {
          "base_uri": "https://localhost:8080/"
        },
        "id": "VIU4xOL1sgiw",
        "outputId": "27c9594e-1e1f-4676-f35a-d1d0567df7cc"
      },
      "execution_count": null,
      "outputs": [
        {
          "output_type": "stream",
          "name": "stdout",
          "text": [
            "(4, 162)\n"
          ]
        }
      ]
    },
    {
      "cell_type": "code",
      "source": [
        "final=Dense(10, activation='softmax')(abz)\n",
        "print(final.shape)\n",
        "print(final)"
      ],
      "metadata": {
        "colab": {
          "base_uri": "https://localhost:8080/"
        },
        "id": "H8y0VJ_Ptz35",
        "outputId": "0213a53e-bb48-4ef4-a778-5f374269cb90"
      },
      "execution_count": null,
      "outputs": [
        {
          "output_type": "stream",
          "name": "stdout",
          "text": [
            "(4, 10)\n",
            "tf.Tensor(\n",
            "[[0.00214481 0.0043423  0.5920888  0.28099573 0.00345254 0.01508917\n",
            "  0.00912864 0.06699942 0.00489289 0.02086566]\n",
            " [0.00086264 0.05609525 0.27554867 0.29066688 0.00402047 0.06760716\n",
            "  0.03893993 0.19812688 0.01254352 0.05558861]\n",
            " [0.00105284 0.00279363 0.51392317 0.2899462  0.00189431 0.03984149\n",
            "  0.02045332 0.10676509 0.00063227 0.02269761]\n",
            " [0.00164802 0.00189216 0.54510564 0.09720758 0.00255613 0.00470637\n",
            "  0.12572297 0.20526415 0.00266432 0.01323275]], shape=(4, 10), dtype=float32)\n"
          ]
        }
      ]
    },
    {
      "cell_type": "code",
      "source": [
        "final=Dense(10, activation='relu')(abz)\n",
        "print(final.shape)\n",
        "print(final)"
      ],
      "metadata": {
        "colab": {
          "base_uri": "https://localhost:8080/"
        },
        "id": "AZbokv5huR6X",
        "outputId": "362477fd-1f96-4ebf-abb6-835e87c1eff9"
      },
      "execution_count": null,
      "outputs": [
        {
          "output_type": "stream",
          "name": "stdout",
          "text": [
            "(4, 10)\n",
            "tf.Tensor(\n",
            "[[3.0086718  1.3957922  0.32516903 0.         0.         0.\n",
            "  0.         0.69191456 2.6305225  2.8889086 ]\n",
            " [2.0496602  0.8380851  2.3338237  0.         0.         0.\n",
            "  0.         1.023658   2.221658   0.        ]\n",
            " [0.8140803  3.2857566  0.         0.         0.         0.\n",
            "  0.         0.5624331  2.681767   2.2395878 ]\n",
            " [3.3274634  1.1346226  1.5103183  0.0389055  0.         0.\n",
            "  0.         0.05799961 3.2189908  1.1245079 ]], shape=(4, 10), dtype=float32)\n"
          ]
        }
      ]
    },
    {
      "cell_type": "markdown",
      "source": [
        "1. How to see the kernals used in Conv2D?\n",
        "2. WHat is difference b/w conv1d and conv2D and conv3D ?"
      ],
      "metadata": {
        "id": "7RXzWsGuiWLU"
      }
    },
    {
      "cell_type": "markdown",
      "source": [
        "#Model CNN for MNIST dataset"
      ],
      "metadata": {
        "id": "gEohdo4aALjQ"
      }
    },
    {
      "cell_type": "markdown",
      "source": [
        "https://www.youtube.com/watch?v=1Ckh6Dd3S7g\n",
        "\n",
        "https://github.com/prodramp/python-projects/blob/main/deeplearning/cnn/mnist_cnn.ipynb"
      ],
      "metadata": {
        "id": "jGGL9I_MADao"
      }
    },
    {
      "cell_type": "code",
      "source": [
        "import tensorflow as tf\n",
        "from tensorflow import keras\n",
        "from keras.layers import Input, Conv2D, MaxPooling2D, Flatten, Dropout, Dense\n",
        "from keras.models import Model, Sequential\n",
        "import numpy as np\n",
        "import matplotlib.pyplot as plt"
      ],
      "metadata": {
        "id": "1K2JHVeHrJoV"
      },
      "execution_count": null,
      "outputs": []
    },
    {
      "cell_type": "code",
      "source": [
        "#Mnist data train, test split\n",
        "(x_train,y_train), (x_test,y_test)= keras.datasets.mnist.load_data()"
      ],
      "metadata": {
        "id": "cscBqwjJlaRG",
        "colab": {
          "base_uri": "https://localhost:8080/"
        },
        "outputId": "92f91b67-49fa-4e99-b543-d801cf32db20"
      },
      "execution_count": null,
      "outputs": [
        {
          "output_type": "stream",
          "name": "stdout",
          "text": [
            "Downloading data from https://storage.googleapis.com/tensorflow/tf-keras-datasets/mnist.npz\n",
            "11490434/11490434 [==============================] - 0s 0us/step\n"
          ]
        }
      ]
    },
    {
      "cell_type": "code",
      "source": [
        "print(x_train.shape)\n",
        "print(y_train.shape)\n",
        "print(x_test.shape)\n",
        "print(y_test.shape)\n",
        "print(\"*******************\")\n",
        "print(y_train[30])\n",
        "plt.imshow(x_train[30])\n",
        "#plt.imshow(x_test[100])\n"
      ],
      "metadata": {
        "colab": {
          "base_uri": "https://localhost:8080/",
          "height": 393
        },
        "id": "P7O5Udh3lv_M",
        "outputId": "b2597a5a-0713-46ee-cfda-525fadf57d59"
      },
      "execution_count": null,
      "outputs": [
        {
          "output_type": "stream",
          "name": "stdout",
          "text": [
            "(60000, 28, 28)\n",
            "(60000,)\n",
            "(10000, 28, 28)\n",
            "(10000,)\n",
            "*******************\n",
            "3\n"
          ]
        },
        {
          "output_type": "execute_result",
          "data": {
            "text/plain": [
              "<matplotlib.image.AxesImage at 0x7f462fe1e160>"
            ]
          },
          "metadata": {},
          "execution_count": 5
        },
        {
          "output_type": "display_data",
          "data": {
            "text/plain": [
              "<Figure size 432x288 with 1 Axes>"
            ],
            "image/png": "[encoded data removed]"
          },
          "metadata": {
            "needs_background": "light"
          }
        }
      ]
    },
    {
      "cell_type": "markdown",
      "source": [
        "**1. Scale x_train& x_test**\n",
        "\n",
        "**2. Expand x_train & xtest dimensions**\n",
        "\n",
        "**3. Convert y_train & y_test to categorical**"
      ],
      "metadata": {
        "id": "wgjVCM-Hpz-U"
      }
    },
    {
      "cell_type": "code",
      "source": [
        "#Scale x_train & x_test\n",
        "#should be run only once\n",
        "x_train= x_train/255.0\n",
        "x_test=x_test/255.0\n",
        "x_train[0]\n",
        "x_train[0].dtype"
      ],
      "metadata": {
        "colab": {
          "base_uri": "https://localhost:8080/"
        },
        "id": "IuNoi3D6ooHF",
        "outputId": "1bcbb580-6870-4730-d380-3669ac69fe47"
      },
      "execution_count": null,
      "outputs": [
        {
          "output_type": "execute_result",
          "data": {
            "text/plain": [
              "dtype('float64')"
            ]
          },
          "metadata": {},
          "execution_count": 6
        }
      ]
    },
    {
      "cell_type": "code",
      "source": [
        "print(x_train.shape)\n",
        "print(x_test.shape)\n",
        "print(x_test[999].shape)"
      ],
      "metadata": {
        "colab": {
          "base_uri": "https://localhost:8080/"
        },
        "id": "KQxTiQ6RwDoQ",
        "outputId": "99ca7ca4-3296-4c7e-8961-378564037d03"
      },
      "execution_count": null,
      "outputs": [
        {
          "output_type": "stream",
          "name": "stdout",
          "text": [
            "(60000, 28, 28)\n",
            "(10000, 28, 28)\n",
            "(28, 28)\n"
          ]
        }
      ]
    },
    {
      "cell_type": "markdown",
      "source": [
        "**Expand x_train & x_test dimension**"
      ],
      "metadata": {
        "id": "yZe-Qpt-AtWy"
      }
    },
    {
      "cell_type": "code",
      "source": [
        "#Expand x_train & x_test dimension\n",
        "#run only once\n",
        "import numpy as np\n",
        "x_train=np.expand_dims(x_train,-1)\n",
        "x_test= np.expand_dims(x_test,-1)"
      ],
      "metadata": {
        "id": "Ji9fDke5vrhD"
      },
      "execution_count": null,
      "outputs": []
    },
    {
      "cell_type": "code",
      "source": [
        "print(x_train.shape)\n",
        "print(x_test.shape)\n",
        "print(x_test[999].shape)"
      ],
      "metadata": {
        "colab": {
          "base_uri": "https://localhost:8080/"
        },
        "id": "6BpDxR5a7QET",
        "outputId": "a1a5a01c-365d-422a-80a0-3eac78b43d30"
      },
      "execution_count": null,
      "outputs": [
        {
          "output_type": "stream",
          "name": "stdout",
          "text": [
            "(60000, 28, 28, 1)\n",
            "(10000, 28, 28, 1)\n",
            "(28, 28, 1)\n"
          ]
        }
      ]
    },
    {
      "cell_type": "markdown",
      "source": [
        "**Convert labels to categorical variables (y_train & y_test)**"
      ],
      "metadata": {
        "id": "L3ODGjP4A2DX"
      }
    },
    {
      "cell_type": "code",
      "source": [
        "num_classes=10\n",
        "y_train= keras.utils.to_categorical(y_train,num_classes) #should be run only once\n",
        "y_test=keras.utils.to_categorical(y_test,num_classes) ##should be run only once"
      ],
      "metadata": {
        "id": "kHjJbNNhpk8u"
      },
      "execution_count": null,
      "outputs": []
    },
    {
      "cell_type": "code",
      "source": [
        "y_test=keras.utils.to_categorical(y_test,num_classes)"
      ],
      "metadata": {
        "id": "L2UgSNzi0_6_"
      },
      "execution_count": null,
      "outputs": []
    },
    {
      "cell_type": "markdown",
      "source": [
        "**Model definition**"
      ],
      "metadata": {
        "id": "TfKUILUDBBfi"
      }
    },
    {
      "cell_type": "code",
      "source": [
        "input_shape=(28,28,1)"
      ],
      "metadata": {
        "id": "FrRVer_cvYBf"
      },
      "execution_count": null,
      "outputs": []
    },
    {
      "cell_type": "code",
      "source": [
        "model_cnn= Sequential([\n",
        "    Conv2D(32,3,input_shape=input_shape,activation='relu'),\n",
        "    MaxPooling2D(pool_size=2),\n",
        "    Conv2D(64,3,activation='relu'),\n",
        "    MaxPooling2D(pool_size=2),\n",
        "    Flatten(),\n",
        "    Dropout(0.5),\n",
        "    Dense(num_classes,activation='softmax'),\n",
        "])"
      ],
      "metadata": {
        "id": "63JIRyM7yzpg"
      },
      "execution_count": null,
      "outputs": []
    },
    {
      "cell_type": "code",
      "source": [
        "model_cnn.summary()"
      ],
      "metadata": {
        "colab": {
          "base_uri": "https://localhost:8080/"
        },
        "id": "BJPYtCOO0dnx",
        "outputId": "68ebc55e-a347-4c3a-ea91-44c6e371aa2d"
      },
      "execution_count": null,
      "outputs": [
        {
          "output_type": "stream",
          "name": "stdout",
          "text": [
            "Model: \"sequential\"\n",
            "_________________________________________________________________\n",
            " Layer (type)                Output Shape              Param #   \n",
            "=================================================================\n",
            " conv2d_2 (Conv2D)           (None, 26, 26, 32)        320       \n",
            "                                                                 \n",
            " max_pooling2d_2 (MaxPooling  (None, 13, 13, 32)       0         \n",
            " 2D)                                                             \n",
            "                                                                 \n",
            " conv2d_3 (Conv2D)           (None, 11, 11, 64)        18496     \n",
            "                                                                 \n",
            " max_pooling2d_3 (MaxPooling  (None, 5, 5, 64)         0         \n",
            " 2D)                                                             \n",
            "                                                                 \n",
            " flatten_1 (Flatten)         (None, 1600)              0         \n",
            "                                                                 \n",
            " dropout (Dropout)           (None, 1600)              0         \n",
            "                                                                 \n",
            " dense (Dense)               (None, 10)                16010     \n",
            "                                                                 \n",
            "=================================================================\n",
            "Total params: 34,826\n",
            "Trainable params: 34,826\n",
            "Non-trainable params: 0\n",
            "_________________________________________________________________\n"
          ]
        }
      ]
    },
    {
      "cell_type": "code",
      "source": [
        "model_cnn.compile(loss='categorical_crossentropy', optimizer='adam', metrics=['accuracy'])"
      ],
      "metadata": {
        "id": "J1neYfID0lwu"
      },
      "execution_count": null,
      "outputs": []
    },
    {
      "cell_type": "markdown",
      "source": [
        "**Model Training**"
      ],
      "metadata": {
        "id": "VPDsW2-TBJLS"
      }
    },
    {
      "cell_type": "code",
      "source": [
        "batch_size=64\n",
        "epochs=2\n",
        "model_cnn.fit(x_train,y_train,batch_size=batch_size, epochs=epochs, validation_split=0.1)"
      ],
      "metadata": {
        "colab": {
          "base_uri": "https://localhost:8080/"
        },
        "id": "M4W1xdJ800xJ",
        "outputId": "37de097d-7c5f-4da5-8ab6-b55657b691f2"
      },
      "execution_count": null,
      "outputs": [
        {
          "output_type": "stream",
          "name": "stdout",
          "text": [
            "Epoch 1/2\n",
            "844/844 [==============================] - 15s 8ms/step - loss: 0.2785 - accuracy: 0.9156 - val_loss: 0.0717 - val_accuracy: 0.9808\n",
            "Epoch 2/2\n",
            "844/844 [==============================] - 4s 5ms/step - loss: 0.0971 - accuracy: 0.9706 - val_loss: 0.0481 - val_accuracy: 0.9865\n"
          ]
        },
        {
          "output_type": "execute_result",
          "data": {
            "text/plain": [
              "<keras.callbacks.History at 0x7f462004d400>"
            ]
          },
          "metadata": {},
          "execution_count": 20
        }
      ]
    },
    {
      "cell_type": "code",
      "source": [
        "#Evaluation\n",
        "score=model_cnn.evaluate(x_test,y_test)\n",
        "print(\"Test loss: \", score[0])\n",
        "print(\"Test_accuracy: \", score[1])"
      ],
      "metadata": {
        "colab": {
          "base_uri": "https://localhost:8080/"
        },
        "id": "tpXqaYTd1mxm",
        "outputId": "0651168c-83d8-4f88-a86b-bf31c4eab9e1"
      },
      "execution_count": null,
      "outputs": [
        {
          "output_type": "stream",
          "name": "stdout",
          "text": [
            "313/313 [==============================] - 1s 3ms/step - loss: 0.0469 - accuracy: 0.9851\n",
            "Test loss:  0.046871136873960495\n",
            "Test_accuracy:  0.9850999712944031\n"
          ]
        }
      ]
    },
    {
      "cell_type": "markdown",
      "source": [
        "**Evaluation**"
      ],
      "metadata": {
        "id": "iKJN4q4s1k-g"
      }
    },
    {
      "cell_type": "code",
      "source": [
        "print(x_test[199].shape)\n",
        "test_img=x_test[199]\n",
        "test_img_new=test_img[:,:,0]\n",
        "print(test_img_new.shape)\n",
        "plt.imshow(test_img_new)\n",
        "print(x_test[199].shape)"
      ],
      "metadata": {
        "colab": {
          "base_uri": "https://localhost:8080/",
          "height": 320
        },
        "id": "HpDIn0Ir7g5I",
        "outputId": "c1de2557-2e38-4a9a-b31e-db707b290857"
      },
      "execution_count": null,
      "outputs": [
        {
          "output_type": "stream",
          "name": "stdout",
          "text": [
            "(28, 28, 1)\n",
            "(28, 28)\n",
            "(28, 28, 1)\n"
          ]
        },
        {
          "output_type": "display_data",
          "data": {
            "text/plain": [
              "<Figure size 432x288 with 1 Axes>"
            ],
            "image/png": "[encoded data removed]"
          },
          "metadata": {
            "needs_background": "light"
          }
        }
      ]
    },
    {
      "cell_type": "code",
      "source": [
        "pred=model_cnn.predict(np.array([x_test[199]]))\n",
        "#model_cnn.predict(np.array(x_test[999]))\n",
        "pred_class=np.argmax(pred)\n",
        "pred_class"
      ],
      "metadata": {
        "colab": {
          "base_uri": "https://localhost:8080/"
        },
        "id": "IZ3t8Axn2J6Q",
        "outputId": "d72982cd-04c4-42bd-dfcc-213913ce33cb"
      },
      "execution_count": null,
      "outputs": [
        {
          "output_type": "stream",
          "name": "stdout",
          "text": [
            "1/1 [==============================] - 0s 128ms/step\n"
          ]
        },
        {
          "output_type": "execute_result",
          "data": {
            "text/plain": [
              "2"
            ]
          },
          "metadata": {},
          "execution_count": 26
        }
      ]
    },
    {
      "cell_type": "code",
      "source": [
        "#print(x_test[199])\n",
        "#print(test_img_new)\n",
        "np.array(x_test[199])"
      ],
      "metadata": {
        "colab": {
          "base_uri": "https://localhost:8080/"
        },
        "id": "o1dqvSng6eID",
        "outputId": "79603918-0e50-4695-fbc1-3e302b3355d8"
      },
      "execution_count": null,
      "outputs": [
        {
          "output_type": "execute_result",
          "data": {
            "text/plain": [
              "array([[[0.        ],\n",
              "        [0.        ],\n",
              "        [0.        ],\n",
              "        [0.        ],\n",
              "        [0.        ],\n",
              "        [0.        ],\n",
              "        [0.        ],\n",
              "        [0.        ],\n",
              "        [0.        ],\n",
              "        [0.        ],\n",
              "        [0.        ],\n",
              "        [0.        ],\n",
              "        [0.        ],\n",
              "        [0.        ],\n",
              "        [0.        ],\n",
              "        [0.        ],\n",
              "        [0.        ],\n",
              "        [0.        ],\n",
              "        [0.        ],\n",
              "        [0.        ],\n",
              "        [0.        ],\n",
              "        [0.        ],\n",
              "        [0.        ],\n",
              "        [0.        ],\n",
              "        [0.        ],\n",
              "        [0.        ],\n",
              "        [0.        ],\n",
              "        [0.        ]],\n",
              "\n",
              "       [[0.        ],\n",
              "        [0.        ],\n",
              "        [0.        ],\n",
              "        [0.        ],\n",
              "        [0.        ],\n",
              "        [0.        ],\n",
              "        [0.        ],\n",
              "        [0.        ],\n",
              "        [0.        ],\n",
              "        [0.        ],\n",
              "        [0.        ],\n",
              "        [0.        ],\n",
              "        [0.        ],\n",
              "        [0.        ],\n",
              "        [0.        ],\n",
              "        [0.        ],\n",
              "        [0.        ],\n",
              "        [0.        ],\n",
              "        [0.        ],\n",
              "        [0.        ],\n",
              "        [0.        ],\n",
              "        [0.        ],\n",
              "        [0.        ],\n",
              "        [0.        ],\n",
              "        [0.        ],\n",
              "        [0.        ],\n",
              "        [0.        ],\n",
              "        [0.        ]],\n",
              "\n",
              "       [[0.        ],\n",
              "        [0.        ],\n",
              "        [0.        ],\n",
              "        [0.        ],\n",
              "        [0.        ],\n",
              "        [0.        ],\n",
              "        [0.        ],\n",
              "        [0.        ],\n",
              "        [0.        ],\n",
              "        [0.        ],\n",
              "        [0.        ],\n",
              "        [0.        ],\n",
              "        [0.        ],\n",
              "        [0.        ],\n",
              "        [0.        ],\n",
              "        [0.        ],\n",
              "        [0.        ],\n",
              "        [0.        ],\n",
              "        [0.        ],\n",
              "        [0.        ],\n",
              "        [0.        ],\n",
              "        [0.        ],\n",
              "        [0.        ],\n",
              "        [0.        ],\n",
              "        [0.        ],\n",
              "        [0.        ],\n",
              "        [0.        ],\n",
              "        [0.        ]],\n",
              "\n",
              "       [[0.        ],\n",
              "        [0.        ],\n",
              "        [0.        ],\n",
              "        [0.        ],\n",
              "        [0.        ],\n",
              "        [0.        ],\n",
              "        [0.        ],\n",
              "        [0.        ],\n",
              "        [0.        ],\n",
              "        [0.        ],\n",
              "        [0.        ],\n",
              "        [0.        ],\n",
              "        [0.        ],\n",
              "        [0.        ],\n",
              "        [0.        ],\n",
              "        [0.        ],\n",
              "        [0.        ],\n",
              "        [0.        ],\n",
              "        [0.        ],\n",
              "        [0.        ],\n",
              "        [0.        ],\n",
              "        [0.        ],\n",
              "        [0.        ],\n",
              "        [0.        ],\n",
              "        [0.        ],\n",
              "        [0.        ],\n",
              "        [0.        ],\n",
              "        [0.        ]],\n",
              "\n",
              "       [[0.        ],\n",
              "        [0.        ],\n",
              "        [0.        ],\n",
              "        [0.        ],\n",
              "        [0.        ],\n",
              "        [0.        ],\n",
              "        [0.        ],\n",
              "        [0.        ],\n",
              "        [0.        ],\n",
              "        [0.        ],\n",
              "        [0.        ],\n",
              "        [0.        ],\n",
              "        [0.22745098],\n",
              "        [0.51764706],\n",
              "        [1.        ],\n",
              "        [0.99215686],\n",
              "        [0.9254902 ],\n",
              "        [0.51764706],\n",
              "        [0.41176471],\n",
              "        [0.01176471],\n",
              "        [0.        ],\n",
              "        [0.        ],\n",
              "        [0.        ],\n",
              "        [0.        ],\n",
              "        [0.        ],\n",
              "        [0.        ],\n",
              "        [0.        ],\n",
              "        [0.        ]],\n",
              "\n",
              "       [[0.        ],\n",
              "        [0.        ],\n",
              "        [0.        ],\n",
              "        [0.        ],\n",
              "        [0.        ],\n",
              "        [0.        ],\n",
              "        [0.        ],\n",
              "        [0.        ],\n",
              "        [0.        ],\n",
              "        [0.        ],\n",
              "        [0.07843137],\n",
              "        [0.27843137],\n",
              "        [0.74901961],\n",
              "        [0.98823529],\n",
              "        [0.99215686],\n",
              "        [0.98823529],\n",
              "        [0.98823529],\n",
              "        [0.98823529],\n",
              "        [0.98823529],\n",
              "        [0.50196078],\n",
              "        [0.        ],\n",
              "        [0.        ],\n",
              "        [0.        ],\n",
              "        [0.        ],\n",
              "        [0.        ],\n",
              "        [0.        ],\n",
              "        [0.        ],\n",
              "        [0.        ]],\n",
              "\n",
              "       [[0.        ],\n",
              "        [0.        ],\n",
              "        [0.        ],\n",
              "        [0.        ],\n",
              "        [0.        ],\n",
              "        [0.        ],\n",
              "        [0.        ],\n",
              "        [0.        ],\n",
              "        [0.        ],\n",
              "        [0.18039216],\n",
              "        [0.91764706],\n",
              "        [0.98823529],\n",
              "        [0.98823529],\n",
              "        [0.98823529],\n",
              "        [0.99215686],\n",
              "        [0.98823529],\n",
              "        [0.98823529],\n",
              "        [0.98823529],\n",
              "        [0.98823529],\n",
              "        [0.88235294],\n",
              "        [0.18431373],\n",
              "        [0.        ],\n",
              "        [0.        ],\n",
              "        [0.        ],\n",
              "        [0.        ],\n",
              "        [0.        ],\n",
              "        [0.        ],\n",
              "        [0.        ]],\n",
              "\n",
              "       [[0.        ],\n",
              "        [0.        ],\n",
              "        [0.        ],\n",
              "        [0.        ],\n",
              "        [0.        ],\n",
              "        [0.        ],\n",
              "        [0.        ],\n",
              "        [0.        ],\n",
              "        [0.        ],\n",
              "        [0.28627451],\n",
              "        [0.98823529],\n",
              "        [0.98823529],\n",
              "        [0.98823529],\n",
              "        [0.98823529],\n",
              "        [0.99215686],\n",
              "        [0.98823529],\n",
              "        [0.98823529],\n",
              "        [0.98823529],\n",
              "        [0.98823529],\n",
              "        [0.98823529],\n",
              "        [0.72156863],\n",
              "        [0.02745098],\n",
              "        [0.        ],\n",
              "        [0.        ],\n",
              "        [0.        ],\n",
              "        [0.        ],\n",
              "        [0.        ],\n",
              "        [0.        ]],\n",
              "\n",
              "       [[0.        ],\n",
              "        [0.        ],\n",
              "        [0.        ],\n",
              "        [0.        ],\n",
              "        [0.        ],\n",
              "        [0.        ],\n",
              "        [0.        ],\n",
              "        [0.        ],\n",
              "        [0.        ],\n",
              "        [0.28627451],\n",
              "        [0.98823529],\n",
              "        [0.98823529],\n",
              "        [0.98823529],\n",
              "        [0.76078431],\n",
              "        [0.28235294],\n",
              "        [0.28235294],\n",
              "        [0.38431373],\n",
              "        [0.98823529],\n",
              "        [0.98823529],\n",
              "        [0.98823529],\n",
              "        [0.98823529],\n",
              "        [0.14117647],\n",
              "        [0.        ],\n",
              "        [0.        ],\n",
              "        [0.        ],\n",
              "        [0.        ],\n",
              "        [0.        ],\n",
              "        [0.        ]],\n",
              "\n",
              "       [[0.        ],\n",
              "        [0.        ],\n",
              "        [0.        ],\n",
              "        [0.        ],\n",
              "        [0.        ],\n",
              "        [0.        ],\n",
              "        [0.        ],\n",
              "        [0.        ],\n",
              "        [0.        ],\n",
              "        [0.06666667],\n",
              "        [0.39215686],\n",
              "        [0.70588235],\n",
              "        [0.50196078],\n",
              "        [0.01176471],\n",
              "        [0.        ],\n",
              "        [0.        ],\n",
              "        [0.14509804],\n",
              "        [0.98823529],\n",
              "        [0.98823529],\n",
              "        [0.98823529],\n",
              "        [0.98823529],\n",
              "        [0.14117647],\n",
              "        [0.        ],\n",
              "        [0.        ],\n",
              "        [0.        ],\n",
              "        [0.        ],\n",
              "        [0.        ],\n",
              "        [0.        ]],\n",
              "\n",
              "       [[0.        ],\n",
              "        [0.        ],\n",
              "        [0.        ],\n",
              "        [0.        ],\n",
              "        [0.        ],\n",
              "        [0.        ],\n",
              "        [0.        ],\n",
              "        [0.        ],\n",
              "        [0.        ],\n",
              "        [0.        ],\n",
              "        [0.        ],\n",
              "        [0.        ],\n",
              "        [0.        ],\n",
              "        [0.        ],\n",
              "        [0.        ],\n",
              "        [0.        ],\n",
              "        [0.14509804],\n",
              "        [0.98823529],\n",
              "        [0.98823529],\n",
              "        [0.98823529],\n",
              "        [0.98823529],\n",
              "        [0.14117647],\n",
              "        [0.        ],\n",
              "        [0.        ],\n",
              "        [0.        ],\n",
              "        [0.        ],\n",
              "        [0.        ],\n",
              "        [0.        ]],\n",
              "\n",
              "       [[0.        ],\n",
              "        [0.        ],\n",
              "        [0.        ],\n",
              "        [0.        ],\n",
              "        [0.        ],\n",
              "        [0.        ],\n",
              "        [0.        ],\n",
              "        [0.        ],\n",
              "        [0.        ],\n",
              "        [0.        ],\n",
              "        [0.        ],\n",
              "        [0.        ],\n",
              "        [0.        ],\n",
              "        [0.        ],\n",
              "        [0.        ],\n",
              "        [0.        ],\n",
              "        [0.54901961],\n",
              "        [0.98823529],\n",
              "        [0.98823529],\n",
              "        [0.98823529],\n",
              "        [0.70196078],\n",
              "        [0.01960784],\n",
              "        [0.        ],\n",
              "        [0.        ],\n",
              "        [0.        ],\n",
              "        [0.        ],\n",
              "        [0.        ],\n",
              "        [0.        ]],\n",
              "\n",
              "       [[0.        ],\n",
              "        [0.        ],\n",
              "        [0.        ],\n",
              "        [0.        ],\n",
              "        [0.        ],\n",
              "        [0.        ],\n",
              "        [0.        ],\n",
              "        [0.        ],\n",
              "        [0.        ],\n",
              "        [0.        ],\n",
              "        [0.        ],\n",
              "        [0.        ],\n",
              "        [0.        ],\n",
              "        [0.        ],\n",
              "        [0.        ],\n",
              "        [0.51372549],\n",
              "        [0.95294118],\n",
              "        [0.98823529],\n",
              "        [0.98823529],\n",
              "        [0.86666667],\n",
              "        [0.14901961],\n",
              "        [0.        ],\n",
              "        [0.        ],\n",
              "        [0.        ],\n",
              "        [0.        ],\n",
              "        [0.        ],\n",
              "        [0.        ],\n",
              "        [0.        ]],\n",
              "\n",
              "       [[0.        ],\n",
              "        [0.        ],\n",
              "        [0.        ],\n",
              "        [0.        ],\n",
              "        [0.        ],\n",
              "        [0.        ],\n",
              "        [0.        ],\n",
              "        [0.        ],\n",
              "        [0.        ],\n",
              "        [0.        ],\n",
              "        [0.        ],\n",
              "        [0.        ],\n",
              "        [0.        ],\n",
              "        [0.        ],\n",
              "        [0.2745098 ],\n",
              "        [0.96862745],\n",
              "        [0.98823529],\n",
              "        [0.98823529],\n",
              "        [0.98823529],\n",
              "        [0.70588235],\n",
              "        [0.        ],\n",
              "        [0.        ],\n",
              "        [0.        ],\n",
              "        [0.        ],\n",
              "        [0.        ],\n",
              "        [0.        ],\n",
              "        [0.        ],\n",
              "        [0.        ]],\n",
              "\n",
              "       [[0.        ],\n",
              "        [0.        ],\n",
              "        [0.        ],\n",
              "        [0.        ],\n",
              "        [0.        ],\n",
              "        [0.        ],\n",
              "        [0.        ],\n",
              "        [0.        ],\n",
              "        [0.        ],\n",
              "        [0.        ],\n",
              "        [0.        ],\n",
              "        [0.        ],\n",
              "        [0.        ],\n",
              "        [0.2745098 ],\n",
              "        [1.        ],\n",
              "        [0.99215686],\n",
              "        [0.99215686],\n",
              "        [0.99215686],\n",
              "        [0.84705882],\n",
              "        [0.11372549],\n",
              "        [0.        ],\n",
              "        [0.        ],\n",
              "        [0.        ],\n",
              "        [0.        ],\n",
              "        [0.        ],\n",
              "        [0.        ],\n",
              "        [0.        ],\n",
              "        [0.        ]],\n",
              "\n",
              "       [[0.        ],\n",
              "        [0.        ],\n",
              "        [0.        ],\n",
              "        [0.        ],\n",
              "        [0.        ],\n",
              "        [0.        ],\n",
              "        [0.        ],\n",
              "        [0.        ],\n",
              "        [0.        ],\n",
              "        [0.        ],\n",
              "        [0.        ],\n",
              "        [0.        ],\n",
              "        [0.29411765],\n",
              "        [0.96862745],\n",
              "        [0.99215686],\n",
              "        [0.98823529],\n",
              "        [0.98823529],\n",
              "        [0.96862745],\n",
              "        [0.25490196],\n",
              "        [0.        ],\n",
              "        [0.        ],\n",
              "        [0.        ],\n",
              "        [0.        ],\n",
              "        [0.        ],\n",
              "        [0.        ],\n",
              "        [0.        ],\n",
              "        [0.        ],\n",
              "        [0.        ]],\n",
              "\n",
              "       [[0.        ],\n",
              "        [0.        ],\n",
              "        [0.        ],\n",
              "        [0.        ],\n",
              "        [0.        ],\n",
              "        [0.        ],\n",
              "        [0.        ],\n",
              "        [0.        ],\n",
              "        [0.        ],\n",
              "        [0.        ],\n",
              "        [0.        ],\n",
              "        [0.30588235],\n",
              "        [0.95294118],\n",
              "        [0.98823529],\n",
              "        [0.99215686],\n",
              "        [0.98823529],\n",
              "        [0.98823529],\n",
              "        [0.82745098],\n",
              "        [0.10980392],\n",
              "        [0.        ],\n",
              "        [0.        ],\n",
              "        [0.        ],\n",
              "        [0.        ],\n",
              "        [0.        ],\n",
              "        [0.        ],\n",
              "        [0.        ],\n",
              "        [0.        ],\n",
              "        [0.        ]],\n",
              "\n",
              "       [[0.        ],\n",
              "        [0.        ],\n",
              "        [0.        ],\n",
              "        [0.        ],\n",
              "        [0.        ],\n",
              "        [0.        ],\n",
              "        [0.        ],\n",
              "        [0.        ],\n",
              "        [0.        ],\n",
              "        [0.        ],\n",
              "        [0.31372549],\n",
              "        [0.94509804],\n",
              "        [0.98823529],\n",
              "        [0.98823529],\n",
              "        [0.99215686],\n",
              "        [0.98823529],\n",
              "        [0.98823529],\n",
              "        [0.98823529],\n",
              "        [0.90980392],\n",
              "        [0.5254902 ],\n",
              "        [0.03921569],\n",
              "        [0.        ],\n",
              "        [0.        ],\n",
              "        [0.        ],\n",
              "        [0.        ],\n",
              "        [0.        ],\n",
              "        [0.        ],\n",
              "        [0.        ]],\n",
              "\n",
              "       [[0.        ],\n",
              "        [0.        ],\n",
              "        [0.        ],\n",
              "        [0.        ],\n",
              "        [0.        ],\n",
              "        [0.        ],\n",
              "        [0.        ],\n",
              "        [0.        ],\n",
              "        [0.17254902],\n",
              "        [0.37647059],\n",
              "        [0.9372549 ],\n",
              "        [0.98823529],\n",
              "        [0.98823529],\n",
              "        [0.98823529],\n",
              "        [0.99215686],\n",
              "        [0.98823529],\n",
              "        [0.98823529],\n",
              "        [0.98823529],\n",
              "        [0.98823529],\n",
              "        [0.98823529],\n",
              "        [0.30196078],\n",
              "        [0.        ],\n",
              "        [0.        ],\n",
              "        [0.        ],\n",
              "        [0.        ],\n",
              "        [0.        ],\n",
              "        [0.        ],\n",
              "        [0.        ]],\n",
              "\n",
              "       [[0.        ],\n",
              "        [0.        ],\n",
              "        [0.        ],\n",
              "        [0.        ],\n",
              "        [0.        ],\n",
              "        [0.        ],\n",
              "        [0.04313725],\n",
              "        [0.6       ],\n",
              "        [0.92156863],\n",
              "        [0.98823529],\n",
              "        [0.98823529],\n",
              "        [0.98823529],\n",
              "        [0.98823529],\n",
              "        [0.98823529],\n",
              "        [0.99215686],\n",
              "        [0.98823529],\n",
              "        [0.98823529],\n",
              "        [0.98823529],\n",
              "        [0.98823529],\n",
              "        [0.90588235],\n",
              "        [0.24313725],\n",
              "        [0.        ],\n",
              "        [0.        ],\n",
              "        [0.        ],\n",
              "        [0.        ],\n",
              "        [0.        ],\n",
              "        [0.        ],\n",
              "        [0.        ]],\n",
              "\n",
              "       [[0.        ],\n",
              "        [0.        ],\n",
              "        [0.        ],\n",
              "        [0.        ],\n",
              "        [0.        ],\n",
              "        [0.        ],\n",
              "        [0.14509804],\n",
              "        [0.98823529],\n",
              "        [0.98823529],\n",
              "        [0.98823529],\n",
              "        [0.98823529],\n",
              "        [0.98823529],\n",
              "        [0.98823529],\n",
              "        [0.98823529],\n",
              "        [0.99215686],\n",
              "        [0.98823529],\n",
              "        [0.98823529],\n",
              "        [0.98823529],\n",
              "        [0.98823529],\n",
              "        [0.54509804],\n",
              "        [0.        ],\n",
              "        [0.        ],\n",
              "        [0.        ],\n",
              "        [0.        ],\n",
              "        [0.        ],\n",
              "        [0.        ],\n",
              "        [0.        ],\n",
              "        [0.        ]],\n",
              "\n",
              "       [[0.        ],\n",
              "        [0.        ],\n",
              "        [0.        ],\n",
              "        [0.        ],\n",
              "        [0.        ],\n",
              "        [0.        ],\n",
              "        [0.54901961],\n",
              "        [0.98823529],\n",
              "        [0.98823529],\n",
              "        [0.98823529],\n",
              "        [0.98823529],\n",
              "        [0.98823529],\n",
              "        [0.98823529],\n",
              "        [0.98823529],\n",
              "        [0.99215686],\n",
              "        [0.95294118],\n",
              "        [0.60784314],\n",
              "        [0.60784314],\n",
              "        [0.49803922],\n",
              "        [0.03529412],\n",
              "        [0.        ],\n",
              "        [0.        ],\n",
              "        [0.        ],\n",
              "        [0.        ],\n",
              "        [0.        ],\n",
              "        [0.        ],\n",
              "        [0.        ],\n",
              "        [0.        ]],\n",
              "\n",
              "       [[0.        ],\n",
              "        [0.        ],\n",
              "        [0.        ],\n",
              "        [0.        ],\n",
              "        [0.        ],\n",
              "        [0.        ],\n",
              "        [0.41568627],\n",
              "        [0.98823529],\n",
              "        [0.98823529],\n",
              "        [0.98823529],\n",
              "        [0.98823529],\n",
              "        [0.98823529],\n",
              "        [0.80392157],\n",
              "        [0.56078431],\n",
              "        [0.09411765],\n",
              "        [0.08235294],\n",
              "        [0.        ],\n",
              "        [0.        ],\n",
              "        [0.        ],\n",
              "        [0.        ],\n",
              "        [0.        ],\n",
              "        [0.        ],\n",
              "        [0.        ],\n",
              "        [0.        ],\n",
              "        [0.        ],\n",
              "        [0.        ],\n",
              "        [0.        ],\n",
              "        [0.        ]],\n",
              "\n",
              "       [[0.        ],\n",
              "        [0.        ],\n",
              "        [0.        ],\n",
              "        [0.        ],\n",
              "        [0.        ],\n",
              "        [0.        ],\n",
              "        [0.0745098 ],\n",
              "        [0.60392157],\n",
              "        [0.98823529],\n",
              "        [0.98823529],\n",
              "        [0.60392157],\n",
              "        [0.3372549 ],\n",
              "        [0.02745098],\n",
              "        [0.        ],\n",
              "        [0.        ],\n",
              "        [0.        ],\n",
              "        [0.        ],\n",
              "        [0.        ],\n",
              "        [0.        ],\n",
              "        [0.        ],\n",
              "        [0.        ],\n",
              "        [0.        ],\n",
              "        [0.        ],\n",
              "        [0.        ],\n",
              "        [0.        ],\n",
              "        [0.        ],\n",
              "        [0.        ],\n",
              "        [0.        ]],\n",
              "\n",
              "       [[0.        ],\n",
              "        [0.        ],\n",
              "        [0.        ],\n",
              "        [0.        ],\n",
              "        [0.        ],\n",
              "        [0.        ],\n",
              "        [0.        ],\n",
              "        [0.        ],\n",
              "        [0.        ],\n",
              "        [0.        ],\n",
              "        [0.        ],\n",
              "        [0.        ],\n",
              "        [0.        ],\n",
              "        [0.        ],\n",
              "        [0.        ],\n",
              "        [0.        ],\n",
              "        [0.        ],\n",
              "        [0.        ],\n",
              "        [0.        ],\n",
              "        [0.        ],\n",
              "        [0.        ],\n",
              "        [0.        ],\n",
              "        [0.        ],\n",
              "        [0.        ],\n",
              "        [0.        ],\n",
              "        [0.        ],\n",
              "        [0.        ],\n",
              "        [0.        ]],\n",
              "\n",
              "       [[0.        ],\n",
              "        [0.        ],\n",
              "        [0.        ],\n",
              "        [0.        ],\n",
              "        [0.        ],\n",
              "        [0.        ],\n",
              "        [0.        ],\n",
              "        [0.        ],\n",
              "        [0.        ],\n",
              "        [0.        ],\n",
              "        [0.        ],\n",
              "        [0.        ],\n",
              "        [0.        ],\n",
              "        [0.        ],\n",
              "        [0.        ],\n",
              "        [0.        ],\n",
              "        [0.        ],\n",
              "        [0.        ],\n",
              "        [0.        ],\n",
              "        [0.        ],\n",
              "        [0.        ],\n",
              "        [0.        ],\n",
              "        [0.        ],\n",
              "        [0.        ],\n",
              "        [0.        ],\n",
              "        [0.        ],\n",
              "        [0.        ],\n",
              "        [0.        ]],\n",
              "\n",
              "       [[0.        ],\n",
              "        [0.        ],\n",
              "        [0.        ],\n",
              "        [0.        ],\n",
              "        [0.        ],\n",
              "        [0.        ],\n",
              "        [0.        ],\n",
              "        [0.        ],\n",
              "        [0.        ],\n",
              "        [0.        ],\n",
              "        [0.        ],\n",
              "        [0.        ],\n",
              "        [0.        ],\n",
              "        [0.        ],\n",
              "        [0.        ],\n",
              "        [0.        ],\n",
              "        [0.        ],\n",
              "        [0.        ],\n",
              "        [0.        ],\n",
              "        [0.        ],\n",
              "        [0.        ],\n",
              "        [0.        ],\n",
              "        [0.        ],\n",
              "        [0.        ],\n",
              "        [0.        ],\n",
              "        [0.        ],\n",
              "        [0.        ],\n",
              "        [0.        ]],\n",
              "\n",
              "       [[0.        ],\n",
              "        [0.        ],\n",
              "        [0.        ],\n",
              "        [0.        ],\n",
              "        [0.        ],\n",
              "        [0.        ],\n",
              "        [0.        ],\n",
              "        [0.        ],\n",
              "        [0.        ],\n",
              "        [0.        ],\n",
              "        [0.        ],\n",
              "        [0.        ],\n",
              "        [0.        ],\n",
              "        [0.        ],\n",
              "        [0.        ],\n",
              "        [0.        ],\n",
              "        [0.        ],\n",
              "        [0.        ],\n",
              "        [0.        ],\n",
              "        [0.        ],\n",
              "        [0.        ],\n",
              "        [0.        ],\n",
              "        [0.        ],\n",
              "        [0.        ],\n",
              "        [0.        ],\n",
              "        [0.        ],\n",
              "        [0.        ],\n",
              "        [0.        ]]])"
            ]
          },
          "metadata": {},
          "execution_count": 32
        }
      ]
    },
    {
      "cell_type": "markdown",
      "source": [
        "Queries:\n",
        "1. Why should the x_train & x_test dimensions to be changed from (:,28,28) to (:,28,28,1)\n",
        "2. Why should the input_shape to have 3 dimensions before applying to CNN model.i.e., input_shape=(28,28,1) instead of (28,28)\n",
        "3. WHile predicting the test point, why shd it be converted to np.array() ? During training x_train was not converted to np.array()."
      ],
      "metadata": {
        "id": "upci1PoZyOZf"
      }
    }
  ]
}